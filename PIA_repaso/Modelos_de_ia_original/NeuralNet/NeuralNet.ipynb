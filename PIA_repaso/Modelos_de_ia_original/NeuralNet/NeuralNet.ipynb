{
 "cells": [
  {
   "cell_type": "code",
   "execution_count": null,
   "id": "initial_id",
   "metadata": {
    "collapsed": true
   },
   "outputs": [],
   "source": [
    "import numpy as np\n",
    "import matplotlib.pyplot as plt\n",
    "\n",
    "from sklearn.datasets import make_circles\n",
    "\n",
    "import time\n",
    "from IPython.display import clear_output\n"
   ]
  },
  {
   "cell_type": "code",
   "execution_count": null,
   "outputs": [],
   "source": [
    "n = 500  # numero de registros\n",
    "p = 2  # numero de características\n",
    "X, Y = make_circles(n_samples=n, factor=0.5, noise=0.05)\n",
    "Y = Y[:, np.newaxis]\n",
    "# funcionde activación y derivada\n",
    "sigm = (lambda x: 1 / (1 + np.exp(-x)),\n",
    "        lambda x: x * (1 - x))\n",
    "\n",
    "relu = (lambda x: np.maximum(0, x))\n",
    "\n",
    "topology = [p, 4, 8, 1]\n",
    "\n",
    "l2_cost = (lambda yp, yr: np.mean((yp - yr) ** 2),\n",
    "           lambda yp, yr: (yp - yr))"
   ],
   "metadata": {
    "collapsed": false
   },
   "id": "20ac3cc454eae3b5"
  },
  {
   "cell_type": "code",
   "execution_count": null,
   "outputs": [],
   "source": [
    "class NeuralLayer:\n",
    "    def __init__(self, n_conn, n_neuron, act_f):\n",
    "        self.act_f = act_f\n",
    "        self.b = np.random.rand(1, n_neuron) * 2 - 1  # vector de sesgos (Normalizado -1, 1)\n",
    "        self.W = np.random.rand(n_conn, n_neuron) * 2 - 1  # matriz de pesos (Normalizado -1, 1)"
   ],
   "metadata": {
    "collapsed": false
   },
   "id": "df2f0a7d520b5929"
  },
  {
   "cell_type": "code",
   "execution_count": null,
   "outputs": [],
   "source": [
    "def create_nn(layer_v, act_f):\n",
    "    nn = []\n",
    "    for idx, l in enumerate(layer_v[:-1]):\n",
    "        nn.append(NeuralLayer(layer_v[idx], layer_v[idx + 1], act_f))\n",
    "\n",
    "    return nn"
   ],
   "metadata": {
    "collapsed": false
   },
   "id": "258e978fe1947eb4"
  },
  {
   "cell_type": "code",
   "execution_count": null,
   "outputs": [],
   "source": [
    "def train(nn, X, Y, cost_f, lr=0.5, train=True):\n",
    "    # Forward pass\n",
    "    out = [(None, X)]\n",
    "    for l, layer in enumerate(nn):\n",
    "        z = out[-1][1] @ nn[l].W + nn[l].b\n",
    "        a = nn[l].act_f[0](z)\n",
    "\n",
    "        out.append((z, a))\n",
    "\n",
    "    if train:\n",
    "        #Backward pass\n",
    "        deltas = []\n",
    "\n",
    "        for l in reversed(range(0, len(nn))):\n",
    "            z = out[l + 1][0]\n",
    "            a = out[l + 1][1]\n",
    "            if l == len(nn) - 1:  # delta última capa\n",
    "                deltas.insert(0, cost_f[1](a, Y) * nn[l].act_f[1](a))\n",
    "            else:  # delta respecto capa previa\n",
    "                deltas.insert(0, deltas[0] @ _W * nn[l].act_f[1](a))\n",
    "\n",
    "            _W = nn[l].W.T\n",
    "\n",
    "            # Gradient descend\n",
    "            nn[l].b = nn[l].b - np.mean(deltas[0], axis=0, keepdims=True) * lr\n",
    "            nn[l].W = nn[l].W - out[l][1].T @ deltas[0] * lr\n",
    "\n",
    "    return out[-1][1]"
   ],
   "metadata": {
    "collapsed": false
   },
   "id": "7f86f62f6140e39c"
  },
  {
   "cell_type": "code",
   "execution_count": null,
   "outputs": [],
   "source": [
    "nn = create_nn(topology, sigm)\n",
    "loss = []\n",
    "for i in range(5000):\n",
    "\n",
    "    py = train(nn, X, Y, l2_cost, lr=0.05)\n",
    "    if i % 25 == 0:\n",
    "        loss.append(l2_cost[0](py, Y))\n",
    "\n",
    "        res = 50\n",
    "\n",
    "        _x0 = np.linspace(-1.5, 1.5, res)\n",
    "        _x1 = np.linspace(-1.5, 1.5, res)\n",
    "\n",
    "        _Y = np.zeros((res, res))\n",
    "\n",
    "        for i0, x0 in enumerate(_x0):\n",
    "            for i1, x1 in enumerate(_x1):\n",
    "                _Y[i0, i1] = train(nn, np.array([[x0, x1]]), Y, l2_cost, train=False)[0][0]\n",
    "\n",
    "        plt.pcolormesh(_x0, _x1, _Y, cmap='coolwarm')\n",
    "        plt.axis('equal')\n",
    "\n",
    "        plt.scatter(X[:, 0], X[:, 1], c=Y)\n",
    "        clear_output(wait=True)\n",
    "        plt.show()\n",
    "        plt.plot(range(len(loss)), loss)\n",
    "        plt.show()\n",
    "        time.sleep(0.5)"
   ],
   "metadata": {
    "collapsed": false
   },
   "id": "e2757d5850f9e9ea"
  }
 ],
 "metadata": {
  "kernelspec": {
   "display_name": "Python 3",
   "language": "python",
   "name": "python3"
  },
  "language_info": {
   "codemirror_mode": {
    "name": "ipython",
    "version": 2
   },
   "file_extension": ".py",
   "mimetype": "text/x-python",
   "name": "python",
   "nbconvert_exporter": "python",
   "pygments_lexer": "ipython2",
   "version": "2.7.6"
  }
 },
 "nbformat": 4,
 "nbformat_minor": 5
}
